{
 "cells": [
  {
   "cell_type": "code",
   "execution_count": 1,
   "id": "669c9af3-fc4e-4c40-9a89-2d0fdf534d17",
   "metadata": {
    "scrolled": true
   },
   "outputs": [],
   "source": [
    "import pandas as pd\n",
    "from pandas import read_csv\n",
    "import csv"
   ]
  },
  {
   "cell_type": "code",
   "execution_count": 5,
   "id": "5e1d36ac-46db-4bd8-8b6b-97891967a2fd",
   "metadata": {},
   "outputs": [],
   "source": [
    "mkdir data_july8"
   ]
  },
  {
   "cell_type": "code",
   "execution_count": 6,
   "id": "2db81d9b-9ecb-4ba5-a769-cfeded3531a5",
   "metadata": {},
   "outputs": [],
   "source": [
    "# current order : sipm --> windows --> LED --> FPGA : i(64) j(1000) y(4) l(4)\n",
    "# And my file is 7 GB, so dividing this in SiPM-wise will be enough\n",
    "# chunksize = 1024000/64 = 16*1000\n",
    "\n",
    "rows = pd.read_csv(\"LED_vs_data_july8_all_win1000.csv\", chunksize=64000) \n",
    "for i, chuck in enumerate(rows): \n",
    "    chuck.to_csv('./data_july8/july8_LED_{}.csv'.format(i)) # i is for chunk number of each iteration "
   ]
  },
  {
   "cell_type": "code",
   "execution_count": null,
   "id": "0c46d1af-bdd7-4ebc-b883-fd9973999884",
   "metadata": {},
   "outputs": [],
   "source": []
  }
 ],
 "metadata": {
  "kernelspec": {
   "display_name": "Python 3 (ipykernel)",
   "language": "python",
   "name": "python3"
  },
  "language_info": {
   "codemirror_mode": {
    "name": "ipython",
    "version": 3
   },
   "file_extension": ".py",
   "mimetype": "text/x-python",
   "name": "python",
   "nbconvert_exporter": "python",
   "pygments_lexer": "ipython3",
   "version": "3.12.11"
  }
 },
 "nbformat": 4,
 "nbformat_minor": 5
}
