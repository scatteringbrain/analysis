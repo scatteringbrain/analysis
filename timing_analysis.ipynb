{
 "cells": [
  {
   "cell_type": "code",
   "execution_count": null,
   "id": "3dc3dd00-64da-4931-a223-cb412ab5e2da",
   "metadata": {},
   "outputs": [],
   "source": [
    "from array import array\n",
    "import pandas as pd\n",
    "import numpy as np\n",
    "from pandas import read_csv\n",
    "#from scipy.signal import find_peaks\n",
    "#from scipy import fft\n",
    "#from scipy.optimize import curve_fit\n",
    "import matplotlib.pyplot as plt\n",
    "import matplotlib as mpl\n",
    "import warnings\n",
    "import csv\n",
    "import math\n",
    "import awkward as ak\n",
    "import numba\n",
    "from  ast  import  literal_eval\n",
    "import time\n",
    "import os\n",
    "from time import process_time"
   ]
  },
  {
   "cell_type": "code",
   "execution_count": null,
   "id": "7b146349-3681-405a-834b-4217b2abe074",
   "metadata": {},
   "outputs": [],
   "source": [
    "# after dividing csv files checking the file structure and if there are wrong thing in the files"
   ]
  },
  {
   "cell_type": "code",
   "execution_count": null,
   "id": "9ea1006b-8d78-42aa-8039-dbbdca2b3f3f",
   "metadata": {},
   "outputs": [],
   "source": [
    "filename='./data_july8/july8_LED_0.csv'\n",
    "d = read_csv(filename)\n",
    "print(d.shape)\n",
    "print(d[0:10])\n",
    "print(d[11:20])\n",
    "print(d[15900:15999])"
   ]
  },
  {
   "cell_type": "code",
   "execution_count": null,
   "id": "c8392fe6-81df-4042-8c91-fe37514f7cd2",
   "metadata": {},
   "outputs": [],
   "source": [
    "d.iloc[:,8]"
   ]
  },
  {
   "cell_type": "code",
   "execution_count": null,
   "id": "483f2f7b-64b2-4357-ba66-3d5ed40e16a9",
   "metadata": {},
   "outputs": [],
   "source": [
    "for k in range(16):\n",
    "    filename ='./data_july8/july8_LED_'+str(k)+'.csv'\n",
    "    d = read_csv(filename)\n",
    "    data = []\n",
    "    for i in range(64):\n",
    "        with open('./data_july8/july8_LED_'+str(k)+'_SiPM_'+str(i)+'.csv', 'w', newline='') as f:\n",
    "            writer = csv.writer(f)\n",
    "            #data1 = []\n",
    "            data2 = []\n",
    "            for j in range(1000):\n",
    "                data2= d.loc[i+j*64,:]\n",
    "                #print(i+j*64)\n",
    "                writer.writerow(data2)\n",
    " \n",
    "        "
   ]
  },
  {
   "cell_type": "code",
   "execution_count": null,
   "id": "7105769e-2c7a-4ec3-bbeb-ea65ede15e92",
   "metadata": {},
   "outputs": [],
   "source": [
    "# print(data1[0])"
   ]
  },
  {
   "cell_type": "code",
   "execution_count": null,
   "id": "1ce630ac-4580-45c0-a618-d9b9a1879b42",
   "metadata": {},
   "outputs": [],
   "source": [
    "# print(data2[0])"
   ]
  },
  {
   "cell_type": "code",
   "execution_count": null,
   "id": "378c399b-437c-47ae-b804-f94ca3d0bcac",
   "metadata": {},
   "outputs": [],
   "source": [
    "# print(data2[1])"
   ]
  },
  {
   "cell_type": "code",
   "execution_count": null,
   "id": "a37eab6a-fe23-41c9-8989-8294336aec89",
   "metadata": {},
   "outputs": [],
   "source": [
    "# k= 1; i =1;\n",
    "# filename1 = './data_july4/july2_LED_'+str(k)+'_SiPM_'+str(i)+'.csv'"
   ]
  },
  {
   "cell_type": "code",
   "execution_count": null,
   "id": "184a65be-508d-4003-9e85-ba2042b3ea61",
   "metadata": {},
   "outputs": [],
   "source": [
    "# d22 =read_csv(filename1)"
   ]
  },
  {
   "cell_type": "code",
   "execution_count": null,
   "id": "9c5e84f1-2d65-4ad3-9933-39312911358c",
   "metadata": {},
   "outputs": [],
   "source": [
    "# d22"
   ]
  },
  {
   "cell_type": "code",
   "execution_count": null,
   "id": "61588590-e56a-4cab-a455-9c9edc0a7400",
   "metadata": {},
   "outputs": [],
   "source": [
    "path = './data_july8'\n",
    "i=1 \n",
    "j=1\n",
    "d=read_csv(path+'/july8_LED_'+str(i)+'_SiPM_'+str(j)+'.csv')\n",
    "d1 = d.to_numpy()\n",
    "d1.shape\n",
    "print(len(d1))\n",
    "print(d1[0])"
   ]
  },
  {
   "cell_type": "code",
   "execution_count": null,
   "id": "019336e6-b0c8-497f-9681-7cff87023118",
   "metadata": {},
   "outputs": [],
   "source": [
    "mkdir evaled_july8"
   ]
  },
  {
   "cell_type": "code",
   "execution_count": null,
   "id": "a1d905aa-2046-47e8-a618-afdc7068984f",
   "metadata": {},
   "outputs": [],
   "source": [
    "\n",
    "t1_start = process_time() \n",
    "path = './data_july8'\n",
    "path1 = './evaled_july8'\n",
    "# obj = os.scandir(path)\n",
    "print(\"Files and Directories in % s':\" % path)\n",
    "i=0\n",
    "\n",
    "data2=[]\n",
    "for i in range(16):\n",
    "    data1 = []\n",
    "  \n",
    "    dataemp =[]\n",
    "    for j in range(64):\n",
    "        d=read_csv(path+'/july8_LED_'+str(i)+'_SiPM_'+str(j)+'.csv')\n",
    "        d1= d.to_numpy()\n",
    "        # print(d1[2,6])\n",
    "        dataemp = np.array(literal_eval(d1[0][8]))\n",
    "        data1.append(dataemp)\n",
    "        np.savetxt('./evaled_july8/evaled_july8_LED_'+str(i)+'_SiPM_'+str(j)+'.csv', dataemp, delimiter=\",\")\n",
    "\n",
    "    data2.append(data1) \n",
    "t1_stop = process_time()\n",
    "print(\"literal_eval\",t1_stop-t1_start) \n",
    "#data1.clear()\n",
    "# d.clear() # data frame has no clear attributes \n",
    "# data.clear() # numpy array aslo no\n",
    " # yes\n",
    "# data2.clear() # numpy array has no clear attritutes\n"
   ]
  },
  {
   "cell_type": "code",
   "execution_count": null,
   "id": "48cbfe75-12ab-4ac3-9f29-c62a045bf0b4",
   "metadata": {},
   "outputs": [],
   "source": [
    "print(len(data2))"
   ]
  },
  {
   "cell_type": "code",
   "execution_count": null,
   "id": "0d5582f2-eec7-4324-8230-97321222b303",
   "metadata": {},
   "outputs": [],
   "source": [
    "print(len(data2[15]))"
   ]
  },
  {
   "cell_type": "code",
   "execution_count": null,
   "id": "b52f1008-baf2-4890-8a8d-2b3cb6a6fe68",
   "metadata": {},
   "outputs": [],
   "source": [
    "print(len(data2[14][0]))"
   ]
  },
  {
   "cell_type": "code",
   "execution_count": null,
   "id": "16a5b00b-6e9a-4ef0-9cd0-4a799ae5e3b8",
   "metadata": {},
   "outputs": [],
   "source": [
    "plt.plot(data2[1][1])"
   ]
  },
  {
   "cell_type": "code",
   "execution_count": null,
   "id": "445a5c5d-3463-49e6-8663-920dd5b80e08",
   "metadata": {},
   "outputs": [],
   "source": [
    "for i in range(64):\n",
    "    plt.plot(data2[0][i])"
   ]
  },
  {
   "cell_type": "code",
   "execution_count": null,
   "id": "3c7fdacb-712c-470e-b501-cc3b0218b11a",
   "metadata": {},
   "outputs": [],
   "source": [
    "for i in range(64):\n",
    "    plt.plot(data2[1][i])"
   ]
  },
  {
   "cell_type": "code",
   "execution_count": null,
   "id": "fc82b65d-7b4a-4fc3-a5a4-58ccfdceff67",
   "metadata": {},
   "outputs": [],
   "source": [
    "for i in range(64):\n",
    "    plt.plot(data2[3][i])"
   ]
  },
  {
   "cell_type": "code",
   "execution_count": null,
   "id": "f5cd3d17-42f2-41ce-bc61-3ae0506f3800",
   "metadata": {},
   "outputs": [],
   "source": [
    "\n",
    "fig, axs = plt.subplots(8, 8,figsize=(40, 40))\n",
    "data3 = data2[0]\n",
    "for i in range(8):\n",
    "    for j in range(8):\n",
    "# print(j+8*i)\n",
    "        axs[i, j].plot(data3[j+8*i],\"o-k\",markersize=4)\n",
    "        axs[i, j].set_title(j+8*i)\n",
    "fig.tight_layout()"
   ]
  },
  {
   "cell_type": "code",
   "execution_count": null,
   "id": "21571a04-689b-4998-9e1f-12c85c7718b7",
   "metadata": {},
   "outputs": [],
   "source": [
    "fig, axs = plt.subplots(8, 8,figsize=(40, 40))\n",
    "data3 = data2[1]\n",
    "for i in range(8):\n",
    "    for j in range(8):\n",
    "# print(j+8*i)\n",
    "        axs[i, j].plot(data3[j+8*i],\"o-k\",markersize=4)\n",
    "        axs[i, j].set_title(j+8*i)\n",
    "fig.tight_layout()"
   ]
  },
  {
   "cell_type": "code",
   "execution_count": null,
   "id": "f2578b95-3e5a-45bd-9f9f-c571cd666a58",
   "metadata": {},
   "outputs": [],
   "source": [
    "fig, axs = plt.subplots(8, 8,figsize=(40, 40))\n",
    "data3 = data2[2]\n",
    "for i in range(8):\n",
    "    for j in range(8):\n",
    "# print(j+8*i)\n",
    "        axs[i, j].plot(data3[j+8*i],\"o-k\",markersize=4)\n",
    "        axs[i, j].set_title(j+8*i)\n",
    "fig.tight_layout()"
   ]
  },
  {
   "cell_type": "code",
   "execution_count": null,
   "id": "36e74cf0-d423-49f2-b3fc-c9cf874d3c89",
   "metadata": {},
   "outputs": [],
   "source": [
    "fig, axs = plt.subplots(8, 8,figsize=(40, 40))\n",
    "data3 = data2[3]\n",
    "for i in range(8):\n",
    "    for j in range(8):\n",
    "# print(j+8*i)\n",
    "        axs[i, j].plot(data3[j+8*i],\"o-k\",markersize=4)\n",
    "        axs[i, j].set_title(j+8*i)\n",
    "fig.tight_layout()"
   ]
  },
  {
   "cell_type": "code",
   "execution_count": null,
   "id": "41375a4d-0b34-4755-bff4-f998d01bb385",
   "metadata": {},
   "outputs": [],
   "source": [
    "fig, axs = plt.subplots(8, 8,figsize=(40, 40))\n",
    "data3 = data2[4]\n",
    "for i in range(8):\n",
    "    for j in range(8):\n",
    "# print(j+8*i)\n",
    "        axs[i, j].plot(data3[j+8*i],\"o-k\",markersize=4)\n",
    "        axs[i, j].set_title(j+8*i)\n",
    "fig.tight_layout()"
   ]
  },
  {
   "cell_type": "code",
   "execution_count": null,
   "id": "4f14eb82-1d12-4241-96a0-4bd27cb1b3f1",
   "metadata": {},
   "outputs": [],
   "source": [
    "fig, axs = plt.subplots(8, 8,figsize=(40, 40))\n",
    "data3 = data2[5]\n",
    "for i in range(8):\n",
    "    for j in range(8):\n",
    "# print(j+8*i)\n",
    "        axs[i, j].plot(data3[j+8*i],\"o-k\",markersize=4)\n",
    "        axs[i, j].set_title(j+8*i)\n",
    "fig.tight_layout()"
   ]
  },
  {
   "cell_type": "code",
   "execution_count": null,
   "id": "8a8bd08e-d4fe-46b4-a533-e353a1638e2d",
   "metadata": {},
   "outputs": [],
   "source": [
    "fig, axs = plt.subplots(8, 8,figsize=(40, 40))\n",
    "data3 = data2[6]\n",
    "for i in range(8):\n",
    "    for j in range(8):\n",
    "# print(j+8*i)\n",
    "        axs[i, j].plot(data3[j+8*i],\"o-k\",markersize=4)\n",
    "        axs[i, j].set_title(j+8*i)\n",
    "fig.tight_layout()"
   ]
  },
  {
   "cell_type": "code",
   "execution_count": null,
   "id": "e060f899-eb5f-48bb-9bdc-1fcdb216777e",
   "metadata": {},
   "outputs": [],
   "source": [
    "fig, axs = plt.subplots(8, 8,figsize=(40, 40))\n",
    "data3 = data2[7]\n",
    "for i in range(8):\n",
    "    for j in range(8):\n",
    "# print(j+8*i)\n",
    "        axs[i, j].plot(data3[j+8*i],\"o-k\",markersize=4)\n",
    "        axs[i, j].set_title(j+8*i)\n",
    "fig.tight_layout()"
   ]
  },
  {
   "cell_type": "code",
   "execution_count": null,
   "id": "873ad5ab-b279-4bf8-8b06-6dad2e1ed572",
   "metadata": {},
   "outputs": [],
   "source": [
    "fig, axs = plt.subplots(8, 8,figsize=(40, 40))\n",
    "data3 = data2[8]\n",
    "for i in range(8):\n",
    "    for j in range(8):\n",
    "# print(j+8*i)\n",
    "        axs[i, j].plot(data3[j+8*i],\"o-k\",markersize=4)\n",
    "        axs[i, j].set_title(j+8*i)\n",
    "fig.tight_layout()"
   ]
  },
  {
   "cell_type": "code",
   "execution_count": null,
   "id": "cecc3b88-15c1-447b-8fa3-d04d79bc6961",
   "metadata": {},
   "outputs": [],
   "source": [
    "fig, axs = plt.subplots(8, 8,figsize=(40, 40))\n",
    "data3 = data2[9]\n",
    "for i in range(8):\n",
    "    for j in range(8):\n",
    "# print(j+8*i)\n",
    "        axs[i, j].plot(data3[j+8*i],\"o-k\",markersize=4)\n",
    "        axs[i, j].set_title(j+8*i)\n",
    "fig.tight_layout()"
   ]
  },
  {
   "cell_type": "code",
   "execution_count": null,
   "id": "45a3eb40-227e-4d57-ad41-ebb90a910177",
   "metadata": {},
   "outputs": [],
   "source": [
    "fig, axs = plt.subplots(8, 8,figsize=(40, 40))\n",
    "data3 = data2[10]\n",
    "for i in range(8):\n",
    "    for j in range(8):\n",
    "# print(j+8*i)\n",
    "        axs[i, j].plot(data3[j+8*i],\"o-k\",markersize=4)\n",
    "        axs[i, j].set_title(j+8*i)\n",
    "fig.tight_layout()"
   ]
  },
  {
   "cell_type": "code",
   "execution_count": null,
   "id": "323ffd74-a9ef-4de9-8a8e-49878fdff440",
   "metadata": {},
   "outputs": [],
   "source": [
    "fig, axs = plt.subplots(8, 8,figsize=(40, 40))\n",
    "data3 = data2[11]\n",
    "for i in range(8):\n",
    "    for j in range(8):\n",
    "# print(j+8*i)\n",
    "        axs[i, j].plot(data3[j+8*i],\"o-k\",markersize=4)\n",
    "        axs[i, j].set_title(j+8*i)\n",
    "fig.tight_layout()"
   ]
  },
  {
   "cell_type": "code",
   "execution_count": null,
   "id": "5bfad9a8-c837-4a73-81a2-0627bf6259c5",
   "metadata": {},
   "outputs": [],
   "source": [
    "fig, axs = plt.subplots(8, 8,figsize=(40, 40))\n",
    "data3 = data2[12]\n",
    "for i in range(8):\n",
    "    for j in range(8):\n",
    "# print(j+8*i)\n",
    "        axs[i, j].plot(data3[j+8*i],\"o-k\",markersize=4)\n",
    "        axs[i, j].set_title(j+8*i)\n",
    "fig.tight_layout()"
   ]
  },
  {
   "cell_type": "code",
   "execution_count": null,
   "id": "8cd1aac8-d06c-4c0e-b9fc-1e719bee1dda",
   "metadata": {},
   "outputs": [],
   "source": [
    "fig, axs = plt.subplots(8, 8,figsize=(40, 40))\n",
    "data3 = data2[13]\n",
    "for i in range(8):\n",
    "    for j in range(8):\n",
    "# print(j+8*i)\n",
    "        axs[i, j].plot(data3[j+8*i],\"o-k\",markersize=4)\n",
    "        axs[i, j].set_title(j+8*i)\n",
    "fig.tight_layout()"
   ]
  },
  {
   "cell_type": "code",
   "execution_count": null,
   "id": "4d23177f-fe11-4b37-a4dc-fc7dc3fdf413",
   "metadata": {},
   "outputs": [],
   "source": [
    "fig, axs = plt.subplots(8, 8,figsize=(40, 40))\n",
    "data3 = data2[14]\n",
    "for i in range(8):\n",
    "    for j in range(8):\n",
    "# print(j+8*i)\n",
    "        axs[i, j].plot(data3[j+8*i],\"o-k\",markersize=4)\n",
    "        axs[i, j].set_title(j+8*i)\n",
    "fig.tight_layout()"
   ]
  },
  {
   "cell_type": "code",
   "execution_count": null,
   "id": "b50b6437-1983-44f0-a58a-99377e8949bd",
   "metadata": {},
   "outputs": [],
   "source": [
    "fig, axs = plt.subplots(8, 8,figsize=(40, 40))\n",
    "data3 = data2[15]\n",
    "for i in range(8):\n",
    "    for j in range(8):\n",
    "# print(j+8*i)\n",
    "        axs[i, j].plot(data3[j+8*i],\"o-k\",markersize=4)\n",
    "        axs[i, j].set_title(j+8*i)\n",
    "fig.tight_layout()"
   ]
  },
  {
   "cell_type": "code",
   "execution_count": null,
   "id": "04cca900-6d4a-40a5-9420-e22c05356bf2",
   "metadata": {},
   "outputs": [],
   "source": [
    "print(len(data2[15]))"
   ]
  },
  {
   "cell_type": "code",
   "execution_count": null,
   "id": "5f987a62-40f5-4322-85d4-4e9cc0e62aca",
   "metadata": {},
   "outputs": [],
   "source": [
    "# To confirm this graphs, Raw file checking"
   ]
  },
  {
   "cell_type": "code",
   "execution_count": null,
   "id": "1d398dbf-3611-4b7c-b9c5-103ffd40b0c1",
   "metadata": {},
   "outputs": [],
   "source": [
    "filename='./data_july8/july8_LED_0.csv'\n",
    "d = read_csv(filename)"
   ]
  },
  {
   "cell_type": "code",
   "execution_count": null,
   "id": "abc1b450-41f8-4de5-94cc-8dc39fcd9547",
   "metadata": {},
   "outputs": [],
   "source": [
    "print(d)"
   ]
  },
  {
   "cell_type": "code",
   "execution_count": null,
   "id": "229f0d81-01a0-4d2f-9123-9763c1c6e5b2",
   "metadata": {},
   "outputs": [],
   "source": []
  }
 ],
 "metadata": {
  "kernelspec": {
   "display_name": "Python 3 (ipykernel)",
   "language": "python",
   "name": "python3"
  },
  "language_info": {
   "codemirror_mode": {
    "name": "ipython",
    "version": 3
   },
   "file_extension": ".py",
   "mimetype": "text/x-python",
   "name": "python",
   "nbconvert_exporter": "python",
   "pygments_lexer": "ipython3",
   "version": "3.12.11"
  }
 },
 "nbformat": 4,
 "nbformat_minor": 5
}
