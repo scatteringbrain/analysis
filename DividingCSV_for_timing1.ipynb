{
 "cells": [
  {
   "cell_type": "code",
   "execution_count": 4,
   "id": "669c9af3-fc4e-4c40-9a89-2d0fdf534d17",
   "metadata": {
    "scrolled": true
   },
   "outputs": [
    {
     "data": {
      "text/plain": [
       "<ArrayBuilder type='0 * unknown'>"
      ]
     },
     "execution_count": 4,
     "metadata": {},
     "output_type": "execute_result"
    }
   ],
   "source": [
    "import pandas as pd\n",
    "from pandas import read_csv\n",
    "import csv"
   ]
  },
  {
   "cell_type": "code",
   "execution_count": null,
   "id": "2db81d9b-9ecb-4ba5-a769-cfeded3531a5",
   "metadata": {},
   "outputs": [],
   "source": [
    "# current order : sipm --> windows --> LED --> FPGA : i(64) j(1000) y(4) l(4)\n",
    "# And my file is 7 GB, so dividing this in SiPM-wise will be enough\n",
    "# chunksize = 1024000/64 = 16*1000\n",
    "rows = pd.read_csv(\"LED_vs_data_july2_all_win1000.csv\", chunksize=16000) \n",
    "for i, chuck in enumerate(rows): \n",
    "    chuck.to_csv('./data_july4/july2_sipm_{}.csv'.format(i)) # i is for chunk number of each iteration "
   ]
  }
 ],
 "metadata": {
  "kernelspec": {
   "display_name": "Python 3 (ipykernel)",
   "language": "python",
   "name": "python3"
  },
  "language_info": {
   "codemirror_mode": {
    "name": "ipython",
    "version": 3
   },
   "file_extension": ".py",
   "mimetype": "text/x-python",
   "name": "python",
   "nbconvert_exporter": "python",
   "pygments_lexer": "ipython3",
   "version": "3.12.11"
  }
 },
 "nbformat": 4,
 "nbformat_minor": 5
}
